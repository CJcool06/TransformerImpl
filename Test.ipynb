{
 "cells": [
  {
   "cell_type": "code",
   "execution_count": 1,
   "metadata": {},
   "outputs": [],
   "source": [
    "import torch\n",
    "import torch.nn as nn\n",
    "import numpy as np"
   ]
  },
  {
   "cell_type": "code",
   "execution_count": 2,
   "metadata": {},
   "outputs": [],
   "source": [
    "dk = 64\n",
    "dv = 64\n",
    "heads = 8"
   ]
  },
  {
   "cell_type": "code",
   "execution_count": 3,
   "metadata": {},
   "outputs": [
    {
     "data": {
      "text/plain": [
       "tensor([[0.9991, 0.1308, 0.1270, 0.0259, 0.5051, 0.3100, 0.6262, 0.9347, 0.7785,\n",
       "         0.5679, 0.1806, 0.8183, 0.1100, 0.3099, 0.9113, 0.6961, 0.5465, 0.7767,\n",
       "         0.9568, 0.2879, 0.7173, 0.1738, 0.0799, 0.0623, 0.6002, 0.1423, 0.7255,\n",
       "         0.8132, 0.4666, 0.9563, 0.7455, 0.3480, 0.1897, 0.6521, 0.1303, 0.5265,\n",
       "         0.0179, 0.9390, 0.7258, 0.9322, 0.5725, 0.3153, 0.0662, 0.8940, 0.8771,\n",
       "         0.1013, 0.0222, 0.0723, 0.9620, 0.5243, 0.2649, 0.4690, 0.3639, 0.3794,\n",
       "         0.2274, 0.4336, 0.2198, 0.6401, 0.6539, 0.5579, 0.0974, 0.5850, 0.6157,\n",
       "         0.5899],\n",
       "        [0.7438, 0.1903, 0.5786, 0.6282, 0.8633, 0.4740, 0.3427, 0.5964, 0.1051,\n",
       "         0.3726, 0.4272, 0.8403, 0.1714, 0.7533, 0.8595, 0.1136, 0.6000, 0.0207,\n",
       "         0.2079, 0.1529, 0.2739, 0.3007, 0.7462, 0.6070, 0.6021, 0.2870, 0.2345,\n",
       "         0.2291, 0.8937, 0.9989, 0.2551, 0.3405, 0.7463, 0.1051, 0.5094, 0.6731,\n",
       "         0.4468, 0.7225, 0.1710, 0.1207, 0.8158, 0.9336, 0.3002, 0.3382, 0.6236,\n",
       "         0.5784, 0.1033, 0.4724, 0.4621, 0.6398, 0.0268, 0.1180, 0.7266, 0.4396,\n",
       "         0.5102, 0.2289, 0.4705, 0.6402, 0.3760, 0.9895, 0.4295, 0.1195, 0.0446,\n",
       "         0.2123]])"
      ]
     },
     "execution_count": 3,
     "metadata": {},
     "output_type": "execute_result"
    }
   ],
   "source": [
    "n = 1\n",
    "m = 2\n",
    "queries = torch.Tensor(np.random.random((n, dk)))\n",
    "keys = torch.Tensor(np.random.random((m, dk)))\n",
    "values = torch.Tensor(np.random.random((m, dv)))\n",
    "\n",
    "keys"
   ]
  },
  {
   "cell_type": "code",
   "execution_count": 97,
   "metadata": {},
   "outputs": [
    {
     "data": {
      "text/plain": [
       "<module 'Transformer' from '/Users/chrisfusco/Desktop/Research/Transformer/Transformer.py'>"
      ]
     },
     "execution_count": 97,
     "metadata": {},
     "output_type": "execute_result"
    }
   ],
   "source": [
    "import Transformer\n",
    "import importlib\n",
    "importlib.reload(Transformer)"
   ]
  },
  {
   "cell_type": "code",
   "execution_count": 98,
   "metadata": {},
   "outputs": [],
   "source": [
    "transformer = Transformer.MultiHeadAttention(heads, dk, dv)\n",
    "# transformer"
   ]
  },
  {
   "cell_type": "code",
   "execution_count": 99,
   "metadata": {},
   "outputs": [],
   "source": [
    "res = transformer.ScaledDotProductAttention(queries, keys, values)\n",
    "# res"
   ]
  },
  {
   "cell_type": "code",
   "execution_count": 100,
   "metadata": {},
   "outputs": [
    {
     "data": {
      "text/plain": [
       "torch.Size([1, 512])"
      ]
     },
     "execution_count": 100,
     "metadata": {},
     "output_type": "execute_result"
    }
   ],
   "source": [
    "res = transformer.forward(queries, keys, values)\n",
    "res.shape"
   ]
  },
  {
   "cell_type": "code",
   "execution_count": null,
   "metadata": {},
   "outputs": [],
   "source": []
  }
 ],
 "metadata": {
  "kernelspec": {
   "display_name": "Python 3",
   "language": "python",
   "name": "python3"
  },
  "language_info": {
   "codemirror_mode": {
    "name": "ipython",
    "version": 3
   },
   "file_extension": ".py",
   "mimetype": "text/x-python",
   "name": "python",
   "nbconvert_exporter": "python",
   "pygments_lexer": "ipython3",
   "version": "3.10.8"
  },
  "orig_nbformat": 4,
  "vscode": {
   "interpreter": {
    "hash": "b0fa6594d8f4cbf19f97940f81e996739fb7646882a419484c72d19e05852a7e"
   }
  }
 },
 "nbformat": 4,
 "nbformat_minor": 2
}
