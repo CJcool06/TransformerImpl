{
 "cells": [
  {
   "attachments": {},
   "cell_type": "markdown",
   "metadata": {},
   "source": [
    "# Imports"
   ]
  },
  {
   "cell_type": "code",
   "execution_count": 1,
   "metadata": {},
   "outputs": [],
   "source": [
    "import torch\n",
    "import torch.nn as nn\n",
    "import numpy as np"
   ]
  },
  {
   "attachments": {},
   "cell_type": "markdown",
   "metadata": {},
   "source": [
    "# Constants"
   ]
  },
  {
   "cell_type": "code",
   "execution_count": 2,
   "metadata": {},
   "outputs": [],
   "source": [
    "dk = 64\n",
    "dv = 64\n",
    "heads = 8"
   ]
  },
  {
   "attachments": {},
   "cell_type": "markdown",
   "metadata": {},
   "source": [
    "# Inputs"
   ]
  },
  {
   "cell_type": "code",
   "execution_count": 69,
   "metadata": {},
   "outputs": [
    {
     "data": {
      "text/plain": [
       "tensor([[1.2056e-01, 7.3681e-01, 9.4408e-01, 7.4247e-01, 3.6185e-02, 6.6833e-01,\n",
       "         3.8552e-01, 6.5008e-01, 5.5211e-01, 5.8540e-01, 9.1908e-01, 6.3162e-01,\n",
       "         2.4714e-01, 2.2989e-01, 4.1137e-01, 7.8192e-01, 9.5032e-01, 7.0446e-01,\n",
       "         4.6988e-01, 4.8320e-01, 6.8550e-01, 4.2498e-01, 4.5942e-01, 5.5075e-01,\n",
       "         9.6882e-01, 4.3175e-01, 3.3068e-01, 8.9755e-02, 7.0875e-01, 5.5421e-01,\n",
       "         2.2747e-01, 1.6635e-01, 8.8810e-01, 7.3897e-02, 1.1240e-01, 6.4481e-01,\n",
       "         4.4041e-01, 9.5328e-01, 4.2839e-01, 6.4402e-01, 3.9856e-02, 6.8150e-01,\n",
       "         8.9946e-01, 6.0076e-01, 9.5799e-01, 8.4143e-01, 3.7632e-01, 9.6743e-01,\n",
       "         5.8731e-01, 4.6092e-01, 8.5630e-01, 4.3606e-02, 1.1151e-01, 4.8333e-01,\n",
       "         6.1662e-01, 3.9553e-01, 9.9131e-01, 4.0431e-01, 2.4114e-01, 1.0828e-01,\n",
       "         1.2896e-01, 8.0176e-01, 7.5805e-01, 4.7101e-02],\n",
       "        [2.7640e-01, 2.5657e-01, 7.3308e-01, 9.5592e-01, 7.7094e-02, 5.9282e-01,\n",
       "         1.3627e-01, 7.6841e-01, 4.5064e-01, 8.1033e-01, 2.8088e-01, 8.0764e-01,\n",
       "         4.9335e-01, 9.0733e-01, 7.2682e-02, 7.6128e-01, 6.9323e-02, 3.9401e-01,\n",
       "         2.0771e-01, 6.1480e-01, 7.4069e-01, 7.4360e-01, 2.3040e-01, 5.4916e-01,\n",
       "         8.1303e-01, 9.3689e-01, 9.8364e-01, 4.5137e-01, 7.8889e-02, 1.8715e-01,\n",
       "         3.1129e-01, 7.8200e-01, 2.9592e-01, 4.8133e-01, 4.4352e-01, 4.3394e-01,\n",
       "         1.8900e-02, 8.9467e-01, 9.9120e-01, 8.3029e-01, 8.8948e-01, 3.2369e-01,\n",
       "         1.8648e-01, 4.6841e-01, 5.0940e-01, 9.6732e-01, 7.5794e-01, 7.5534e-01,\n",
       "         8.6879e-01, 4.7080e-01, 5.2181e-01, 4.7037e-01, 2.2464e-01, 7.7819e-01,\n",
       "         2.3266e-02, 3.5727e-01, 1.1533e-04, 5.5683e-01, 1.8270e-02, 8.8792e-01,\n",
       "         6.1247e-01, 6.5478e-01, 8.4299e-01, 7.2976e-01]])"
      ]
     },
     "execution_count": 69,
     "metadata": {},
     "output_type": "execute_result"
    }
   ],
   "source": [
    "n = 2\n",
    "m = 2\n",
    "queries = torch.Tensor(np.random.random((n, dk)))\n",
    "keys = torch.Tensor(np.random.random((m, dk)))\n",
    "values = torch.Tensor(np.random.random((m, dv)))\n",
    "\n",
    "# keys"
   ]
  },
  {
   "attachments": {},
   "cell_type": "markdown",
   "metadata": {},
   "source": [
    "# Tests"
   ]
  },
  {
   "cell_type": "code",
   "execution_count": 89,
   "metadata": {},
   "outputs": [
    {
     "data": {
      "text/plain": [
       "<module 'Transformer' from '/Users/chrisfusco/Desktop/Research/TransformerImpl/Transformer.py'>"
      ]
     },
     "execution_count": 89,
     "metadata": {},
     "output_type": "execute_result"
    }
   ],
   "source": [
    "import Transformer\n",
    "import importlib\n",
    "\n",
    "importlib.reload(Transformer)"
   ]
  },
  {
   "cell_type": "code",
   "execution_count": 90,
   "metadata": {},
   "outputs": [],
   "source": [
    "transformer = Transformer.MultiHeadAttention(heads, dk, dv)\n",
    "# transformer"
   ]
  },
  {
   "cell_type": "code",
   "execution_count": 91,
   "metadata": {},
   "outputs": [
    {
     "data": {
      "text/plain": [
       "torch.Size([2, 64])"
      ]
     },
     "execution_count": 91,
     "metadata": {},
     "output_type": "execute_result"
    }
   ],
   "source": [
    "res = transformer.ScaledDotProductAttention(queries, keys, values)\n",
    "assert res.shape == (n, dk)\n",
    "\n",
    "res.shape"
   ]
  },
  {
   "cell_type": "code",
   "execution_count": 92,
   "metadata": {},
   "outputs": [
    {
     "data": {
      "text/plain": [
       "torch.Size([2, 512])"
      ]
     },
     "execution_count": 92,
     "metadata": {},
     "output_type": "execute_result"
    }
   ],
   "source": [
    "res = transformer.forward(queries, keys, values)\n",
    "assert res.shape == (n, dk * heads)\n",
    "\n",
    "res.shape"
   ]
  },
  {
   "cell_type": "code",
   "execution_count": null,
   "metadata": {},
   "outputs": [],
   "source": []
  }
 ],
 "metadata": {
  "kernelspec": {
   "display_name": "Python 3",
   "language": "python",
   "name": "python3"
  },
  "language_info": {
   "codemirror_mode": {
    "name": "ipython",
    "version": 3
   },
   "file_extension": ".py",
   "mimetype": "text/x-python",
   "name": "python",
   "nbconvert_exporter": "python",
   "pygments_lexer": "ipython3",
   "version": "3.10.8"
  },
  "orig_nbformat": 4,
  "vscode": {
   "interpreter": {
    "hash": "b0fa6594d8f4cbf19f97940f81e996739fb7646882a419484c72d19e05852a7e"
   }
  }
 },
 "nbformat": 4,
 "nbformat_minor": 2
}
