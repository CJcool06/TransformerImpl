{
 "cells": [
  {
   "cell_type": "code",
   "execution_count": 1,
   "metadata": {},
   "outputs": [],
   "source": [
    "import torch\n",
    "import torch.nn as nn\n",
    "import numpy as np"
   ]
  },
  {
   "cell_type": "code",
   "execution_count": 2,
   "metadata": {},
   "outputs": [],
   "source": [
    "dk = 64\n",
    "dv = 64\n",
    "heads = 8"
   ]
  },
  {
   "cell_type": "code",
   "execution_count": 3,
   "metadata": {},
   "outputs": [
    {
     "data": {
      "text/plain": [
       "tensor([[0.4697, 0.0605, 0.6260, 0.1745, 0.0998, 0.3161, 0.9449, 0.0967, 0.7246,\n",
       "         0.3629, 0.1649, 0.2181, 0.5734, 0.7480, 0.2641, 0.2246, 0.7478, 0.0718,\n",
       "         0.0465, 0.9763, 0.8703, 0.4144, 0.7180, 0.6089, 0.5639, 0.7352, 0.5458,\n",
       "         0.2295, 0.3252, 0.2807, 0.5286, 0.8239, 0.7180, 0.8542, 0.3555, 0.1776,\n",
       "         0.6154, 0.0832, 0.1554, 0.6073, 0.8018, 0.8596, 0.0842, 0.3506, 0.3668,\n",
       "         0.4519, 0.4717, 0.1746, 0.2410, 0.1677, 0.7447, 0.0102, 0.1991, 0.3739,\n",
       "         0.1902, 0.1142, 0.3996, 0.4902, 0.8748, 0.8526, 0.5982, 0.3583, 0.7384,\n",
       "         0.0265],\n",
       "        [0.2546, 0.9730, 0.1964, 0.6669, 0.7056, 0.8659, 0.6835, 0.1091, 0.3476,\n",
       "         0.6112, 0.7248, 0.2876, 0.7001, 0.6909, 0.4316, 0.5948, 0.8286, 0.9399,\n",
       "         0.3555, 0.6357, 0.5189, 0.1822, 0.1776, 0.1101, 0.8235, 0.8329, 0.3076,\n",
       "         0.0257, 0.0887, 0.3564, 0.2599, 0.3953, 0.3608, 0.8887, 0.9442, 0.8205,\n",
       "         0.4552, 0.8607, 0.5101, 0.9086, 0.4064, 0.5776, 0.4361, 0.1024, 0.3368,\n",
       "         0.5011, 0.7982, 0.7697, 0.7267, 0.2638, 0.2068, 0.9335, 0.8462, 0.5852,\n",
       "         0.9029, 0.9768, 0.3262, 0.6560, 0.4287, 0.1215, 0.2476, 0.8290, 0.8523,\n",
       "         0.3562]])"
      ]
     },
     "execution_count": 3,
     "metadata": {},
     "output_type": "execute_result"
    }
   ],
   "source": [
    "n = 1\n",
    "m = 2\n",
    "queries = torch.Tensor(np.random.random((n, dk)))\n",
    "keys = torch.Tensor(np.random.random((m, dk)))\n",
    "values = torch.Tensor(np.random.random((m, dv)))\n",
    "\n",
    "keys"
   ]
  },
  {
   "cell_type": "code",
   "execution_count": 4,
   "metadata": {},
   "outputs": [
    {
     "data": {
      "text/plain": [
       "<module 'Transformer' from '/Users/chrisfusco/Desktop/Research/TransformerImpl/Transformer.py'>"
      ]
     },
     "execution_count": 4,
     "metadata": {},
     "output_type": "execute_result"
    }
   ],
   "source": [
    "import Transformer\n",
    "import importlib\n",
    "importlib.reload(Transformer)"
   ]
  },
  {
   "cell_type": "code",
   "execution_count": 5,
   "metadata": {},
   "outputs": [],
   "source": [
    "transformer = Transformer.MultiHeadAttention(heads, dk, dv)\n",
    "# transformer"
   ]
  },
  {
   "cell_type": "code",
   "execution_count": 6,
   "metadata": {},
   "outputs": [],
   "source": [
    "res = transformer.ScaledDotProductAttention(queries, keys, values)\n",
    "# res"
   ]
  },
  {
   "cell_type": "code",
   "execution_count": 7,
   "metadata": {},
   "outputs": [
    {
     "data": {
      "text/plain": [
       "torch.Size([1, 512])"
      ]
     },
     "execution_count": 7,
     "metadata": {},
     "output_type": "execute_result"
    }
   ],
   "source": [
    "res = transformer.forward(queries, keys, values)\n",
    "res.shape"
   ]
  }
 ],
 "metadata": {
  "kernelspec": {
   "display_name": "Python 3",
   "language": "python",
   "name": "python3"
  },
  "language_info": {
   "codemirror_mode": {
    "name": "ipython",
    "version": 3
   },
   "file_extension": ".py",
   "mimetype": "text/x-python",
   "name": "python",
   "nbconvert_exporter": "python",
   "pygments_lexer": "ipython3",
   "version": "3.10.8"
  },
  "orig_nbformat": 4,
  "vscode": {
   "interpreter": {
    "hash": "b0fa6594d8f4cbf19f97940f81e996739fb7646882a419484c72d19e05852a7e"
   }
  }
 },
 "nbformat": 4,
 "nbformat_minor": 2
}
